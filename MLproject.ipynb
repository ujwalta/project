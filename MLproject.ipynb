{
  "nbformat": 4,
  "nbformat_minor": 0,
  "metadata": {
    "colab": {
      "provenance": [],
      "authorship_tag": "ABX9TyMskftVBftVmDuVfHFKIOcF",
      "include_colab_link": true
    },
    "kernelspec": {
      "name": "python3",
      "display_name": "Python 3"
    },
    "language_info": {
      "name": "python"
    }
  },
  "cells": [
    {
      "cell_type": "markdown",
      "metadata": {
        "id": "view-in-github",
        "colab_type": "text"
      },
      "source": [
        "<a href=\"https://colab.research.google.com/github/ujwalta/project/blob/main/MLproject.ipynb\" target=\"_parent\"><img src=\"https://colab.research.google.com/assets/colab-badge.svg\" alt=\"Open In Colab\"/></a>"
      ]
    },
    {
      "cell_type": "code",
      "source": [
        "import pandas as pd\n",
        "from sklearn.linear_model import LinearRegression\n",
        "from sklearn.model_selection import train_test_split\n",
        "import joblib\n",
        "\n",
        "# Load the dataset\n",
        "car_data = pd.read_csv(\"car_price_prediction_.csv\")\n",
        "df = pd.DataFrame(car_data)\n",
        "# Inspect the dataset\n",
        "print(car_data.head())\n",
        "print(\"Original Data Info:\\n\", df.info())\n",
        "print(df.describe())\n",
        "print(\"Original Data Sample:\\n\", df.head())"
      ],
      "metadata": {
        "colab": {
          "base_uri": "https://localhost:8080/"
        },
        "id": "oyFZAOCvtxB9",
        "outputId": "df2a9ffd-a7f8-4736-a56b-71a24999809a"
      },
      "execution_count": 11,
      "outputs": [
        {
          "output_type": "stream",
          "name": "stdout",
          "text": [
            "   Car ID  Brand  Year  Engine Size Fuel Type Transmission  Mileage Condition  \\\n",
            "0       1  Tesla  2016          2.3    Petrol       Manual   114832       New   \n",
            "1       2    BMW  2018          4.4  Electric       Manual   143190      Used   \n",
            "2       3   Audi  2013          4.5  Electric       Manual   181601       New   \n",
            "3       4  Tesla  2011          4.1    Diesel    Automatic    68682       New   \n",
            "4       5   Ford  2009          2.6    Diesel       Manual   223009  Like New   \n",
            "\n",
            "      Price     Model  \n",
            "0  26613.92   Model X  \n",
            "1  14679.61  5 Series  \n",
            "2  44402.61        A4  \n",
            "3  86374.33   Model Y  \n",
            "4  73577.10   Mustang  \n",
            "<class 'pandas.core.frame.DataFrame'>\n",
            "RangeIndex: 2500 entries, 0 to 2499\n",
            "Data columns (total 10 columns):\n",
            " #   Column        Non-Null Count  Dtype  \n",
            "---  ------        --------------  -----  \n",
            " 0   Car ID        2500 non-null   int64  \n",
            " 1   Brand         2500 non-null   object \n",
            " 2   Year          2500 non-null   int64  \n",
            " 3   Engine Size   2500 non-null   float64\n",
            " 4   Fuel Type     2500 non-null   object \n",
            " 5   Transmission  2500 non-null   object \n",
            " 6   Mileage       2500 non-null   int64  \n",
            " 7   Condition     2500 non-null   object \n",
            " 8   Price         2500 non-null   float64\n",
            " 9   Model         2500 non-null   object \n",
            "dtypes: float64(2), int64(3), object(5)\n",
            "memory usage: 195.4+ KB\n",
            "Original Data Info:\n",
            " None\n",
            "           Car ID       Year  Engine Size        Mileage         Price\n",
            "count  2500.00000  2500.0000  2500.000000    2500.000000   2500.000000\n",
            "mean   1250.50000  2011.6268     3.465240  149749.844800  52638.022532\n",
            "std     721.83216     6.9917     1.432053   87919.952034  27295.833455\n",
            "min       1.00000  2000.0000     1.000000      15.000000   5011.270000\n",
            "25%     625.75000  2005.0000     2.200000   71831.500000  28908.485000\n",
            "50%    1250.50000  2012.0000     3.400000  149085.000000  53485.240000\n",
            "75%    1875.25000  2018.0000     4.700000  225990.500000  75838.532500\n",
            "max    2500.00000  2023.0000     6.000000  299967.000000  99982.590000\n",
            "Original Data Sample:\n",
            "    Car ID  Brand  Year  Engine Size Fuel Type Transmission  Mileage Condition  \\\n",
            "0       1  Tesla  2016          2.3    Petrol       Manual   114832       New   \n",
            "1       2    BMW  2018          4.4  Electric       Manual   143190      Used   \n",
            "2       3   Audi  2013          4.5  Electric       Manual   181601       New   \n",
            "3       4  Tesla  2011          4.1    Diesel    Automatic    68682       New   \n",
            "4       5   Ford  2009          2.6    Diesel       Manual   223009  Like New   \n",
            "\n",
            "      Price     Model  \n",
            "0  26613.92   Model X  \n",
            "1  14679.61  5 Series  \n",
            "2  44402.61        A4  \n",
            "3  86374.33   Model Y  \n",
            "4  73577.10   Mustang  \n"
          ]
        }
      ]
    },
    {
      "cell_type": "code",
      "source": [
        "# Rename columns for consistency\n",
        "df.rename(columns=lambda x: x.strip().replace(\" \", \"_\").lower(), inplace=True)\n",
        "\n",
        "# Check for missing values and fill them\n",
        "print(\"Missing Values:\\n\", df.isnull().sum())\n",
        "df.ffill(inplace=True)\n",
        "\n",
        "# Drop the 'Car ID' column\n",
        "df = df.drop(columns=['car_id'])\n",
        "\n",
        "# Verify the column is removed\n",
        "print(df.head())"
      ],
      "metadata": {
        "colab": {
          "base_uri": "https://localhost:8080/"
        },
        "id": "kDSdAdfkt6RD",
        "outputId": "de865177-3f0c-4454-97e3-430c19566f1c"
      },
      "execution_count": 12,
      "outputs": [
        {
          "output_type": "stream",
          "name": "stdout",
          "text": [
            "Missing Values:\n",
            " car_id          0\n",
            "brand           0\n",
            "year            0\n",
            "engine_size     0\n",
            "fuel_type       0\n",
            "transmission    0\n",
            "mileage         0\n",
            "condition       0\n",
            "price           0\n",
            "model           0\n",
            "dtype: int64\n",
            "   brand  year  engine_size fuel_type transmission  mileage condition  \\\n",
            "0  Tesla  2016          2.3    Petrol       Manual   114832       New   \n",
            "1    BMW  2018          4.4  Electric       Manual   143190      Used   \n",
            "2   Audi  2013          4.5  Electric       Manual   181601       New   \n",
            "3  Tesla  2011          4.1    Diesel    Automatic    68682       New   \n",
            "4   Ford  2009          2.6    Diesel       Manual   223009  Like New   \n",
            "\n",
            "      price     model  \n",
            "0  26613.92   Model X  \n",
            "1  14679.61  5 Series  \n",
            "2  44402.61        A4  \n",
            "3  86374.33   Model Y  \n",
            "4  73577.10   Mustang  \n"
          ]
        }
      ]
    },
    {
      "cell_type": "code",
      "source": [
        "# Remove duplicates\n",
        "print(\"Duplicates: \", df.duplicated().sum())\n",
        "df.drop_duplicates(inplace=True)\n",
        "\n",
        "# Standardize categorical data\n",
        "df['fuel_type'] = df['fuel_type'].str.strip().str.title()\n",
        "df['transmission'] = df['transmission'].str.strip().str.capitalize()\n",
        "\n",
        "# Remove outliers in the 'price' column\n",
        "df = df[(df['price'] > 1000) & (df['price'] < 1000000)]\n",
        "\n",
        "# Verify the cleaned data\n",
        "print(\"Cleaned Data Info:\\n\", df.info())\n",
        "print(\"Cleaned Data Sample:\\n\", df.head())\n",
        "\n",
        "# Save the cleaned dataset\n",
        "df.to_csv(\"cleaned_dataset.csv\", index=False)"
      ],
      "metadata": {
        "colab": {
          "base_uri": "https://localhost:8080/"
        },
        "id": "q771XuHpuM52",
        "outputId": "714403a6-0690-446a-d0fe-bb7c17806925"
      },
      "execution_count": 13,
      "outputs": [
        {
          "output_type": "stream",
          "name": "stdout",
          "text": [
            "Duplicates:  0\n",
            "<class 'pandas.core.frame.DataFrame'>\n",
            "RangeIndex: 2500 entries, 0 to 2499\n",
            "Data columns (total 9 columns):\n",
            " #   Column        Non-Null Count  Dtype  \n",
            "---  ------        --------------  -----  \n",
            " 0   brand         2500 non-null   object \n",
            " 1   year          2500 non-null   int64  \n",
            " 2   engine_size   2500 non-null   float64\n",
            " 3   fuel_type     2500 non-null   object \n",
            " 4   transmission  2500 non-null   object \n",
            " 5   mileage       2500 non-null   int64  \n",
            " 6   condition     2500 non-null   object \n",
            " 7   price         2500 non-null   float64\n",
            " 8   model         2500 non-null   object \n",
            "dtypes: float64(2), int64(2), object(5)\n",
            "memory usage: 175.9+ KB\n",
            "Cleaned Data Info:\n",
            " None\n",
            "Cleaned Data Sample:\n",
            "    brand  year  engine_size fuel_type transmission  mileage condition  \\\n",
            "0  Tesla  2016          2.3    Petrol       Manual   114832       New   \n",
            "1    BMW  2018          4.4  Electric       Manual   143190      Used   \n",
            "2   Audi  2013          4.5  Electric       Manual   181601       New   \n",
            "3  Tesla  2011          4.1    Diesel    Automatic    68682       New   \n",
            "4   Ford  2009          2.6    Diesel       Manual   223009  Like New   \n",
            "\n",
            "      price     model  \n",
            "0  26613.92   Model X  \n",
            "1  14679.61  5 Series  \n",
            "2  44402.61        A4  \n",
            "3  86374.33   Model Y  \n",
            "4  73577.10   Mustang  \n"
          ]
        }
      ]
    },
    {
      "cell_type": "code",
      "source": [
        "current_year = 2025\n",
        "df['car_age'] = current_year - df['year']\n",
        "\n",
        "# Define features and target variable\n",
        "X = df[['car_age']]\n",
        "y = df['price']\n",
        "\n",
        "# Split the dataset into training and testing sets\n",
        "X_train, X_test, y_train, y_test = train_test_split(X, y, test_size=0.2, random_state=42)\n",
        "\n",
        "# Build and train the Linear Regression model\n",
        "model = LinearRegression()\n",
        "model.fit(X_train, y_train)\n",
        "\n",
        "# Make predictions\n",
        "y_pred = model.predict(X_test)\n",
        "\n",
        "# Save the trained model\n",
        "joblib.dump(model, 'car_price_predictor.pkl')\n",
        "\n",
        "print(\"Model trained and saved successfully!\")"
      ],
      "metadata": {
        "colab": {
          "base_uri": "https://localhost:8080/"
        },
        "id": "dwU9k3-NuW9p",
        "outputId": "0ca65241-f36b-406b-93d6-19df471f031c"
      },
      "execution_count": 15,
      "outputs": [
        {
          "output_type": "stream",
          "name": "stdout",
          "text": [
            "Model trained and saved successfully!\n"
          ]
        }
      ]
    },
    {
      "cell_type": "code",
      "source": [],
      "metadata": {
        "id": "4BG--PDDugyh"
      },
      "execution_count": null,
      "outputs": []
    }
  ]
}